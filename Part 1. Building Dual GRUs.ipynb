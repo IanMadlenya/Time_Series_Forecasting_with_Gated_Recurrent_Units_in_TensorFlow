{
 "cells": [
  {
   "cell_type": "markdown",
   "metadata": {},
   "source": [
    "# Forecasting Dish Subscribers Using Gated Recurrent Units (GRUs) - Part 1\n",
    "\n",
    "In the code below, we develop our underlying models using the methodology defined in the README."
   ]
  },
  {
   "cell_type": "markdown",
   "metadata": {},
   "source": [
    "## Setup\n",
    "\n",
    "* Import packages\n",
    "* Set parameters\n",
    "* Define file paths\n",
    "* Load data from Excel"
   ]
  },
  {
   "cell_type": "code",
   "execution_count": 1,
   "metadata": {
    "scrolled": true
   },
   "outputs": [
    {
     "name": "stderr",
     "output_type": "stream",
     "text": [
      "Using TensorFlow backend.\n"
     ]
    }
   ],
   "source": [
    "# Import packages\n",
    "import numpy as np\n",
    "import pandas as pd\n",
    "from sklearn import preprocessing\n",
    "from keras.layers import Input, GRU, Dense, concatenate, Activation\n",
    "from keras.models import Model\n",
    "import datetime\n",
    "import sys\n",
    "import random\n",
    "import matplotlib as mpl\n",
    "import matplotlib.pyplot as plt"
   ]
  },
  {
   "cell_type": "code",
   "execution_count": 2,
   "metadata": {
    "collapsed": true
   },
   "outputs": [],
   "source": [
    "# Set parameters\n",
    "trainingsize = 80 # Percent of data to use in training set\n",
    "validation_size = 0 # Validation size for use in Keras' .fit\n",
    "shuffle = False # shuffles inputs when fitting model\n",
    "GRUnodes = 64\n",
    "path = \"C:\\\\Users\\\\nthor\\\\Desktop\\\\Kaggle\\\\Python\\\\\"\n",
    "file = \"Dish Data.xlsx\" # Name of .xlsx file\n",
    "sheet = \"Data\" # Name of .xlsx sheet\n",
    "span = 8 # Time lag for endogeneous variables used in baseline model (in quarters)\n",
    "horiz = 6 # Steps in the future to predict (in quarters)\n",
    "yweight = .4 # Weight of RNN based on y only\n",
    "xyweight = 1 - yweight # Weight of RNN based on x + y\n",
    "n_epoch = 5000 # set number of epochs\n",
    "time_increment = 91 # delta_t used to create next series of dat. we're using quarters in our example"
   ]
  },
  {
   "cell_type": "code",
   "execution_count": 3,
   "metadata": {
    "collapsed": true
   },
   "outputs": [],
   "source": [
    "# Set random seed\n",
    "seed = 2017\n",
    "np.random.seed(seed)"
   ]
  },
  {
   "cell_type": "code",
   "execution_count": 4,
   "metadata": {
    "collapsed": true
   },
   "outputs": [],
   "source": [
    "# Load data\n",
    "loc = path + file\n",
    "\n",
    "# Open spreadsheet\n",
    "Excel = pd.ExcelFile(loc)\n",
    "raw = Excel.parse('Data')"
   ]
  },
  {
   "cell_type": "code",
   "execution_count": 5,
   "metadata": {},
   "outputs": [
    {
     "data": {
      "text/html": [
       "<div>\n",
       "<style>\n",
       "    .dataframe thead tr:only-child th {\n",
       "        text-align: right;\n",
       "    }\n",
       "\n",
       "    .dataframe thead th {\n",
       "        text-align: left;\n",
       "    }\n",
       "\n",
       "    .dataframe tbody tr th {\n",
       "        vertical-align: top;\n",
       "    }\n",
       "</style>\n",
       "<table border=\"1\" class=\"dataframe\">\n",
       "  <thead>\n",
       "    <tr style=\"text-align: right;\">\n",
       "      <th></th>\n",
       "      <th>#</th>\n",
       "      <th>Year / Quarter</th>\n",
       "      <th>Pay-TV Customers Acq. (in hundred thousands)</th>\n",
       "      <th>Cum. Customers Acq.</th>\n",
       "      <th>Q1 Impact</th>\n",
       "      <th>Q2 Impact</th>\n",
       "      <th>Q3 Impact</th>\n",
       "      <th>Recession</th>\n",
       "      <th>Sub. Promotion Subsidies</th>\n",
       "      <th>Recreation services</th>\n",
       "      <th>US GDP</th>\n",
       "      <th>Product Releases</th>\n",
       "    </tr>\n",
       "  </thead>\n",
       "  <tbody>\n",
       "    <tr>\n",
       "      <th>0</th>\n",
       "      <td>1</td>\n",
       "      <td>1996Q1</td>\n",
       "      <td>2</td>\n",
       "      <td>2</td>\n",
       "      <td>1</td>\n",
       "      <td>0</td>\n",
       "      <td>0</td>\n",
       "      <td>0</td>\n",
       "      <td>33591</td>\n",
       "      <td>189.8</td>\n",
       "      <td>0.0461</td>\n",
       "      <td>0</td>\n",
       "    </tr>\n",
       "    <tr>\n",
       "      <th>1</th>\n",
       "      <td>2</td>\n",
       "      <td>1996Q2</td>\n",
       "      <td>29</td>\n",
       "      <td>31</td>\n",
       "      <td>0</td>\n",
       "      <td>1</td>\n",
       "      <td>0</td>\n",
       "      <td>0</td>\n",
       "      <td>33591</td>\n",
       "      <td>193.6</td>\n",
       "      <td>0.0600</td>\n",
       "      <td>0</td>\n",
       "    </tr>\n",
       "    <tr>\n",
       "      <th>2</th>\n",
       "      <td>3</td>\n",
       "      <td>1996Q3</td>\n",
       "      <td>70</td>\n",
       "      <td>101</td>\n",
       "      <td>0</td>\n",
       "      <td>0</td>\n",
       "      <td>1</td>\n",
       "      <td>0</td>\n",
       "      <td>33591</td>\n",
       "      <td>198.4</td>\n",
       "      <td>0.0587</td>\n",
       "      <td>0</td>\n",
       "    </tr>\n",
       "    <tr>\n",
       "      <th>3</th>\n",
       "      <td>4</td>\n",
       "      <td>1996Q4</td>\n",
       "      <td>104</td>\n",
       "      <td>205</td>\n",
       "      <td>0</td>\n",
       "      <td>0</td>\n",
       "      <td>0</td>\n",
       "      <td>0</td>\n",
       "      <td>33591</td>\n",
       "      <td>200.6</td>\n",
       "      <td>0.0625</td>\n",
       "      <td>0</td>\n",
       "    </tr>\n",
       "    <tr>\n",
       "      <th>4</th>\n",
       "      <td>5</td>\n",
       "      <td>1997Q1</td>\n",
       "      <td>133</td>\n",
       "      <td>338</td>\n",
       "      <td>1</td>\n",
       "      <td>0</td>\n",
       "      <td>0</td>\n",
       "      <td>0</td>\n",
       "      <td>145061</td>\n",
       "      <td>204.2</td>\n",
       "      <td>0.0645</td>\n",
       "      <td>0</td>\n",
       "    </tr>\n",
       "  </tbody>\n",
       "</table>\n",
       "</div>"
      ],
      "text/plain": [
       "   # Year / Quarter  Pay-TV Customers Acq. (in hundred thousands)  \\\n",
       "0  1         1996Q1                                             2   \n",
       "1  2         1996Q2                                            29   \n",
       "2  3         1996Q3                                            70   \n",
       "3  4         1996Q4                                           104   \n",
       "4  5         1997Q1                                           133   \n",
       "\n",
       "   Cum. Customers Acq.  Q1 Impact  Q2 Impact  Q3 Impact  Recession  \\\n",
       "0                    2          1          0          0          0   \n",
       "1                   31          0          1          0          0   \n",
       "2                  101          0          0          1          0   \n",
       "3                  205          0          0          0          0   \n",
       "4                  338          1          0          0          0   \n",
       "\n",
       "   Sub. Promotion Subsidies  Recreation services  US GDP  Product Releases  \n",
       "0                     33591                189.8  0.0461                 0  \n",
       "1                     33591                193.6  0.0600                 0  \n",
       "2                     33591                198.4  0.0587                 0  \n",
       "3                     33591                200.6  0.0625                 0  \n",
       "4                    145061                204.2  0.0645                 0  "
      ]
     },
     "execution_count": 5,
     "metadata": {},
     "output_type": "execute_result"
    }
   ],
   "source": [
    "# View data\n",
    "raw.head()"
   ]
  },
  {
   "cell_type": "code",
   "execution_count": 6,
   "metadata": {
    "collapsed": true
   },
   "outputs": [],
   "source": [
    "# Load variables (convert to float64 to pre-empt modeling issues)\n",
    "lastrow = len(raw) # Adjust for Zero Index\n",
    "\n",
    "t = raw.iloc[0:lastrow, 0].astype('float64') # Time-steps (1,2, etc.)\n",
    "dates = raw.iloc[0:lastrow, 1] # Quarter dates (e.g., 1996Q1)\n",
    "newcust = raw.iloc[0:lastrow, 2].astype('float64') # Number of new Pay-TV customers\n",
    "cumcust = raw.iloc[0:lastrow, 3].astype('float64') # Cumulative number of Pay-TV customers\n",
    "q1 = raw.iloc[0:lastrow, 4].astype('float64') # Indicator for Q1 (created to capture seasonality effects)\n",
    "q2 = raw.iloc[0:lastrow, 5].astype('float64') # Indicator for Q1 (created to capture seasonality effects)\n",
    "q3 = raw.iloc[0:lastrow, 6].astype('float64') # Indicator for Q1 (created to capture seasonality effects)\n",
    "recession = raw.iloc[0:lastrow, 7].astype('float64') # Indicator for the 2008 recession\n",
    "subsidies = raw.iloc[0:lastrow, 8].astype('float64') # Dish promotional subsidies ($)\n",
    "rec_spend = raw.iloc[0:lastrow, 9].astype('float64') # US Census avg. recreational spend by household\n",
    "GDP = raw.iloc[0:lastrow, 10].astype('float64') # US GDP (%)\n",
    "newprod = raw.iloc[0:lastrow, 11].astype('float64') # Indicator for introduction of SlingTV (low cost \"cut the cord\" option that likely led to a spike in subscribers)"
   ]
  },
  {
   "cell_type": "markdown",
   "metadata": {},
   "source": [
    "## Data Transformation & Model Preparation\n",
    "\n",
    "* Log-transform variables\n",
    "* Define x and y variables\n",
    "* Normalize metrics\n",
    "* Define lag variables using user-defined 'span' variable"
   ]
  },
  {
   "cell_type": "code",
   "execution_count": 7,
   "metadata": {
    "collapsed": true
   },
   "outputs": [],
   "source": [
    "# Log-transform large variables to minimize outlier effects\n",
    "ln_rec_spend = np.log(rec_spend)\n",
    "ln_subsidies = np.log(subsidies)"
   ]
  },
  {
   "cell_type": "code",
   "execution_count": 8,
   "metadata": {
    "collapsed": true
   },
   "outputs": [],
   "source": [
    "# Define x and y variables (named as '_1' to denote pre-normalized values)\n",
    "x_1 = pd.concat([q1, q2, q3, recession, ln_rec_spend, ln_subsidies, newprod], axis = 1)\n",
    "y_1 = newcust\n",
    "y_cum = cumcust "
   ]
  },
  {
   "cell_type": "code",
   "execution_count": 9,
   "metadata": {
    "scrolled": true
   },
   "outputs": [
    {
     "data": {
      "text/html": [
       "<div>\n",
       "<style>\n",
       "    .dataframe thead tr:only-child th {\n",
       "        text-align: right;\n",
       "    }\n",
       "\n",
       "    .dataframe thead th {\n",
       "        text-align: left;\n",
       "    }\n",
       "\n",
       "    .dataframe tbody tr th {\n",
       "        vertical-align: top;\n",
       "    }\n",
       "</style>\n",
       "<table border=\"1\" class=\"dataframe\">\n",
       "  <thead>\n",
       "    <tr style=\"text-align: right;\">\n",
       "      <th></th>\n",
       "      <th>Q1 Impact</th>\n",
       "      <th>Q2 Impact</th>\n",
       "      <th>Q3 Impact</th>\n",
       "      <th>Recession</th>\n",
       "      <th>Recreation services</th>\n",
       "      <th>Sub. Promotion Subsidies</th>\n",
       "      <th>Product Releases</th>\n",
       "    </tr>\n",
       "  </thead>\n",
       "  <tbody>\n",
       "    <tr>\n",
       "      <th>0</th>\n",
       "      <td>1.0</td>\n",
       "      <td>0.0</td>\n",
       "      <td>0.0</td>\n",
       "      <td>0.0</td>\n",
       "      <td>5.245971</td>\n",
       "      <td>10.422013</td>\n",
       "      <td>0.0</td>\n",
       "    </tr>\n",
       "    <tr>\n",
       "      <th>1</th>\n",
       "      <td>0.0</td>\n",
       "      <td>1.0</td>\n",
       "      <td>0.0</td>\n",
       "      <td>0.0</td>\n",
       "      <td>5.265794</td>\n",
       "      <td>10.422013</td>\n",
       "      <td>0.0</td>\n",
       "    </tr>\n",
       "    <tr>\n",
       "      <th>2</th>\n",
       "      <td>0.0</td>\n",
       "      <td>0.0</td>\n",
       "      <td>1.0</td>\n",
       "      <td>0.0</td>\n",
       "      <td>5.290285</td>\n",
       "      <td>10.422013</td>\n",
       "      <td>0.0</td>\n",
       "    </tr>\n",
       "    <tr>\n",
       "      <th>3</th>\n",
       "      <td>0.0</td>\n",
       "      <td>0.0</td>\n",
       "      <td>0.0</td>\n",
       "      <td>0.0</td>\n",
       "      <td>5.301313</td>\n",
       "      <td>10.422013</td>\n",
       "      <td>0.0</td>\n",
       "    </tr>\n",
       "    <tr>\n",
       "      <th>4</th>\n",
       "      <td>1.0</td>\n",
       "      <td>0.0</td>\n",
       "      <td>0.0</td>\n",
       "      <td>0.0</td>\n",
       "      <td>5.319100</td>\n",
       "      <td>11.884910</td>\n",
       "      <td>0.0</td>\n",
       "    </tr>\n",
       "  </tbody>\n",
       "</table>\n",
       "</div>"
      ],
      "text/plain": [
       "   Q1 Impact  Q2 Impact  Q3 Impact  Recession  Recreation services  \\\n",
       "0        1.0        0.0        0.0        0.0             5.245971   \n",
       "1        0.0        1.0        0.0        0.0             5.265794   \n",
       "2        0.0        0.0        1.0        0.0             5.290285   \n",
       "3        0.0        0.0        0.0        0.0             5.301313   \n",
       "4        1.0        0.0        0.0        0.0             5.319100   \n",
       "\n",
       "   Sub. Promotion Subsidies  Product Releases  \n",
       "0                 10.422013               0.0  \n",
       "1                 10.422013               0.0  \n",
       "2                 10.422013               0.0  \n",
       "3                 10.422013               0.0  \n",
       "4                 11.884910               0.0  "
      ]
     },
     "execution_count": 9,
     "metadata": {},
     "output_type": "execute_result"
    }
   ],
   "source": [
    "# View x variables\n",
    "x_1.head()"
   ]
  },
  {
   "cell_type": "code",
   "execution_count": 10,
   "metadata": {
    "collapsed": true
   },
   "outputs": [],
   "source": [
    "# Normalize metrics\n",
    "scaler_x = preprocessing.MinMaxScaler(feature_range = (0,1)) # Create scaler\n",
    "scaler_y = preprocessing.MinMaxScaler(feature_range = (0,1))\n",
    "\n",
    "x = np.array(x_1).reshape((len(x_1), len(x_1.columns))) # Reshape to avoid deprecation warning\n",
    "x = scaler_x.fit_transform(x) # Transform x elements\n",
    "\n",
    "y = np.array(y_1).reshape((len(y_1), 1))\n",
    "y = scaler_y.fit_transform(y)"
   ]
  },
  {
   "cell_type": "code",
   "execution_count": 11,
   "metadata": {
    "collapsed": true
   },
   "outputs": [],
   "source": [
    "# Assemble matrices containing samples of x-spans, y-spans, and y-horizons across the available timeline\n",
    "nsample = len(y) - span - horiz # The number of samples equals the number of observations minus our number of time lag and prediction observations\n",
    "x_list = [np.expand_dims(np.atleast_2d(x[i:span + i,:]), axis = 0) for i in range(nsample)] # Group observations by our span parameter (2 by default)\n",
    "x_mat = np.concatenate(x_list, axis = 0) # Concatenate these lists into a single numpy array\n",
    "\n",
    "# Define y lag period\n",
    "ylag_list = [np.expand_dims(np.atleast_2d(y[i:span + i, :]), axis = 0) for i in range(nsample)]\n",
    "ylag_mat = np.concatenate(ylag_list, axis = 0) # Essentially are adding another list level: row to span period (2 by default)\n",
    "\n",
    "# Define target horizon\n",
    "y_list = [np.atleast_2d(y[i + span:span + i + horiz, 0]) for i in range(nsample)] # Groups the elements in y by our horizon parameter (i.e., groups 4 together into one list entry)\n",
    "y_mat = np.concatenate(y_list, axis = 0) # Concatenate all list entries\n",
    "\n",
    "# Define prediction observations for our span period (default of two span periods)\n",
    "ilast = nsample # We will later reset nsample to zero, so need to define a new variable\n",
    "xlast_list = [np.expand_dims(np.atleast_2d(x[ilast:span + ilast,:]), axis = 0)]\n",
    "xlast_mat = np.concatenate(xlast_list, axis = 0)\n",
    "\n",
    "ylastlag_list = [np.expand_dims(np.atleast_2d(y[ilast : span + ilast, :]), axis = 0)]\n",
    "ylastlag_mat = np.concatenate(ylastlag_list, axis = 0)"
   ]
  },
  {
   "cell_type": "markdown",
   "metadata": {},
   "source": [
    "## Modeling\n",
    "* Split into test and training\n",
    "* Develop GRUs and merge layers\n",
    "* Train the model and fit results\n",
    "* Generate forecasts"
   ]
  },
  {
   "cell_type": "markdown",
   "metadata": {},
   "source": [
    "### Split data into test and training"
   ]
  },
  {
   "cell_type": "code",
   "execution_count": 12,
   "metadata": {
    "collapsed": true
   },
   "outputs": [],
   "source": [
    "# Define training sets\n",
    "end = y_mat.shape[0] - 1 # Set the end of our data\n",
    "learning_end = (end * trainingsize)//100 # Marks end of training set\n",
    "\n",
    "x_mat_train = x_mat[0:learning_end,] # Define x-variables in training set\n",
    "y_mat_train = y_mat[0:learning_end,] # Define y-variable in training set\n",
    "ylag_mat_train = ylag_mat[0:learning_end,] # Define lagging y-variables in training set"
   ]
  },
  {
   "cell_type": "code",
   "execution_count": 13,
   "metadata": {
    "collapsed": true
   },
   "outputs": [],
   "source": [
    "# Define test sets\n",
    "x_mat_test = x_mat[learning_end + 1:end,] # Define x-variables in test set\n",
    "y_mat_test = y_mat[learning_end + 1:end,] # Contains 15-time spans, with each t+1 from the preceeding span equaling t in the proceeding span \n",
    "ylag_mat_test = ylag_mat[learning_end + 1:end,]"
   ]
  },
  {
   "cell_type": "code",
   "execution_count": 14,
   "metadata": {
    "scrolled": true
   },
   "outputs": [
    {
     "data": {
      "text/plain": [
       "(55, 8, 7)"
      ]
     },
     "execution_count": 14,
     "metadata": {},
     "output_type": "execute_result"
    }
   ],
   "source": [
    "# Observe shape of training set to spot-check; we expect the 61 observations from our training set to be grouped into groups of 2 (per span) with 7 elements per observation\n",
    "x_mat_train.shape"
   ]
  },
  {
   "cell_type": "markdown",
   "metadata": {},
   "source": [
    "### Develop GRUs"
   ]
  },
  {
   "cell_type": "code",
   "execution_count": 15,
   "metadata": {
    "collapsed": true
   },
   "outputs": [],
   "source": [
    "# Create baseline (\"main\") GRU network\n",
    "main_in = Input(shape = (ylag_mat_train.shape[1], 1), dtype = 'float32', name = 'main_in') # Initialize input layer and define data shape\n",
    "main_gru = GRU(return_sequences = False, activation = 'tanh', units = GRUnodes, recurrent_activation = 'hard_sigmoid')(main_in) # Creates GRU with pre-defined number of nodes using tanh activation function\n",
    "main_out = Dense(horiz, activation = 'linear', name = 'main_out')(main_gru) # Implements the operation without any activation being applied (i.e., linear)"
   ]
  },
  {
   "cell_type": "code",
   "execution_count": 16,
   "metadata": {
    "collapsed": true
   },
   "outputs": [],
   "source": [
    "# Create separate GRU network for both exogenous and endogenous metrics\n",
    "exo_in = Input(shape = (x_mat_train.shape[1], x_mat_train.shape[2]), dtype = 'float32', name = 'exo_in') # Shapes the input using the number of rows (2) and columns (7) in the array\n",
    "exo_gru = GRU(return_sequences = False, activation = 'tanh', units = GRUnodes, recurrent_activation = 'hard_sigmoid')(exo_in)\n",
    "exo_out = Dense(horiz, activation = 'linear', name = 'exo_out')(exo_gru)"
   ]
  },
  {
   "cell_type": "code",
   "execution_count": 17,
   "metadata": {
    "collapsed": true,
    "scrolled": true
   },
   "outputs": [],
   "source": [
    "# Merge the two GRU layers\n",
    "merged_layers = concatenate([main_gru, exo_gru])\n",
    "\n",
    "# Create a dense layer for all merged data elements\n",
    "combo_out = Dense(horiz, activation = 'sigmoid', name = 'combo_out')(merged_layers)"
   ]
  },
  {
   "cell_type": "code",
   "execution_count": 18,
   "metadata": {
    "collapsed": true
   },
   "outputs": [],
   "source": [
    "# Define final model input / output flows; compile parameters\n",
    "model = Model(inputs = [main_in, exo_in], outputs = [main_out, combo_out]) # Creates two lists of entries: our baseline and our combo\n",
    "model.compile(optimizer = 'rmsprop', \n",
    "              loss = 'mean_squared_error', # Uses MSE as error term (rather than MAPE or alternatives) \n",
    "              loss_weights = [yweight, xyweight]) "
   ]
  },
  {
   "cell_type": "markdown",
   "metadata": {},
   "source": [
    "### Train and test the final model"
   ]
  },
  {
   "cell_type": "code",
   "execution_count": 32,
   "metadata": {},
   "outputs": [
    {
     "data": {
      "text/plain": [
       "<keras.callbacks.History at 0x2296128f7f0>"
      ]
     },
     "execution_count": 32,
     "metadata": {},
     "output_type": "execute_result"
    }
   ],
   "source": [
    "# Train the final model\n",
    "model.fit({'main_in' : ylag_mat_train, \n",
    "           'exo_in' : x_mat_train}, \n",
    "          {'main_out' : y_mat_train, \n",
    "           'combo_out':y_mat_train},\n",
    "          epochs = n_epoch,\n",
    "          shuffle = shuffle,\n",
    "          validation_split = validation_size,\n",
    "          verbose = False)"
   ]
  },
  {
   "cell_type": "code",
   "execution_count": 33,
   "metadata": {
    "collapsed": true
   },
   "outputs": [],
   "source": [
    "# Test the final model\n",
    "pred = model.predict({'main_in' : ylag_mat_test, 'exo_in' : x_mat_test})"
   ]
  },
  {
   "cell_type": "code",
   "execution_count": 34,
   "metadata": {
    "collapsed": true
   },
   "outputs": [],
   "source": [
    "# Forecast y for predictor span that corresponds to horizon for which y(obs) is not known\n",
    "fcst = model.predict({'main_in' : ylastlag_mat, 'exo_in':xlast_mat})"
   ]
  },
  {
   "cell_type": "markdown",
   "metadata": {},
   "source": [
    "## Evaluate Error Terms\n",
    "* Rescale parameters\n",
    "* Evaluate error terms\n",
    "* Calculate in-sample (IS) and out-of-sample (OOS) error terms"
   ]
  },
  {
   "cell_type": "code",
   "execution_count": 35,
   "metadata": {
    "collapsed": true
   },
   "outputs": [],
   "source": [
    "# Rescale predicted and observed values\n",
    "# pred is a list of two lists: pred[0][:] = baseline, pred[1][:] = combo\n",
    "for i in range(0, len(y_mat_test)):\n",
    "    if i == 0:\n",
    "        pred_s = scaler_y.inverse_transform(np.array(pred[1][i]).reshape((len(pred[1][i]), 1)))\n",
    "        y_s = scaler_y.inverse_transform(np.array(y_mat_test[i]).reshape((len(y_mat_test[i]), 1)))\n",
    "        fcst_s = scaler_y.inverse_transform(np.array(fcst[1][i]).reshape((len(fcst[1][i]), 1)))\n",
    "    else:\n",
    "        pred_s = np.concatenate([pred_s, scaler_y.inverse_transform(np.array(pred[1][i]).reshape((len(pred[1][i]), 1)))], axis = 1)\n",
    "        y_s = np.concatenate([y_s, scaler_y.inverse_transform(np.array(y_mat_test[i]).reshape((len(y_mat_test[i]), 1)))], axis = 1)"
   ]
  },
  {
   "cell_type": "code",
   "execution_count": 36,
   "metadata": {},
   "outputs": [
    {
     "data": {
      "text/plain": [
       "array([[ 825.05480957,  690.42944336,  660.96862793,  788.66955566,\n",
       "         818.14678955,  653.01403809,  730.76019287,  870.43890381,\n",
       "         840.12921143,  653.23352051,  754.30578613,  875.96734619,\n",
       "         838.57000732],\n",
       "       [ 797.60894775,  855.48291016,  661.45678711,  665.85784912,\n",
       "         808.61663818,  857.78411865,  665.61846924,  723.67254639,\n",
       "         828.52282715,  872.48736572,  712.70141602,  739.07226562,\n",
       "         818.69445801],\n",
       "       [ 873.57611084,  722.49859619,  673.15447998,  718.64355469,\n",
       "         883.59875488,  780.96069336,  662.67236328,  710.45861816,\n",
       "         894.16656494,  776.42266846,  738.17657471,  686.72369385,\n",
       "         889.98468018],\n",
       "       [ 719.37194824,  724.17669678,  615.87268066,  794.60864258,\n",
       "         774.95172119,  781.51367188,  662.18615723,  831.03845215,\n",
       "         782.55749512,  790.02081299,  685.68212891,  835.04852295,\n",
       "         771.81732178],\n",
       "       [ 685.4276123 ,  704.34936523,  718.11120605,  637.02600098,\n",
       "         668.06323242,  665.96099854,  752.74694824,  671.43560791,\n",
       "         705.79302979,  668.56646729,  767.32403564,  657.84771729,\n",
       "         691.7755127 ],\n",
       "       [ 689.13024902,  806.80651855,  703.99572754,  663.29516602,\n",
       "         743.92474365,  822.88775635,  679.58642578,  603.81079102,\n",
       "         748.38018799,  814.18347168,  735.13684082,  591.22753906,\n",
       "         749.29681396]], dtype=float32)"
      ]
     },
     "execution_count": 36,
     "metadata": {},
     "output_type": "execute_result"
    }
   ],
   "source": [
    "# Our prediction output is four groups of 15 observations each (one for each horizon period in our test set) \n",
    "pred_s "
   ]
  },
  {
   "cell_type": "code",
   "execution_count": 37,
   "metadata": {},
   "outputs": [
    {
     "name": "stdout",
     "output_type": "stream",
     "text": [
      "13/13 [==============================] - 0sA: 0s\n"
     ]
    }
   ],
   "source": [
    "# Evaluate the model using three MAPE scores: overall loss, baseline loss, and combo loss\n",
    "MSE_train = model.evaluate({'main_in':ylag_mat_train, 'exo_in':x_mat_train},\n",
    "                          {'main_out':y_mat_train, 'combo_out' : y_mat_train})\n",
    "\n",
    "MSE_test = model.evaluate({'main_in':ylag_mat_test, 'exo_in':x_mat_test},\n",
    "                         {'main_out':y_mat_test, 'combo_out':y_mat_test})"
   ]
  },
  {
   "cell_type": "code",
   "execution_count": 38,
   "metadata": {},
   "outputs": [
    {
     "data": {
      "text/plain": [
       "0.00042108362214287009"
      ]
     },
     "execution_count": 38,
     "metadata": {},
     "output_type": "execute_result"
    }
   ],
   "source": [
    "# View in-sample mean\n",
    "np.mean(MSE_train)"
   ]
  },
  {
   "cell_type": "code",
   "execution_count": 39,
   "metadata": {},
   "outputs": [
    {
     "data": {
      "text/plain": [
       "0.014586110599339008"
      ]
     },
     "execution_count": 39,
     "metadata": {},
     "output_type": "execute_result"
    }
   ],
   "source": [
    "# View out-of-sample error terms\n",
    "np.mean(MSE_test)"
   ]
  },
  {
   "cell_type": "code",
   "execution_count": 40,
   "metadata": {
    "scrolled": true
   },
   "outputs": [
    {
     "name": "stdout",
     "output_type": "stream",
     "text": [
      "avg diff:  95.5333333333  ( 15.31 %)\n",
      "final diff:  -65.1302490234  ( -10.44 %)\n"
     ]
    }
   ],
   "source": [
    "# NOTE: This bit of code is an alternative approach to the error code above (no longer necessary)\n",
    "# Compute error by running through each predicted and observed value\n",
    "nsample = 0 # Index of sample from testing set chosen to illustrate error\n",
    "n = 0 # index within the chosen sample\n",
    "p_cum = np.array([]) # Initiative predicted cumulative distribution of test set (fcst from baseline + combo)\n",
    "f_cum = np.array([]) # Initiative predicted cumulative distribution of actual forecast (fcst from baseline + combo)\n",
    "o_cum = np.array([]) # Observed cum. distribution\n",
    "dsum = 0 # sum of all errors across all steps in this sample\n",
    "\n",
    "# Initialize matrices\n",
    "x_axis = np.array([])\n",
    "\n",
    "while n < horiz: # for as long as n is below our prediction horizon (default = 4)...\n",
    "    p = pred_s[n, nsample] # pick one prediction from a particular sample / quarter\n",
    "    f = fcst_s[n, nsample] # pick one forecast from a particular sample / quarter\n",
    "    o = y_s[n, nsample] # pick one observed count from a particular sample / quarter\n",
    "    if (n == 0):\n",
    "        p_cum = np.append(p_cum, y_cum.iloc[learning_end + span] + p) # start by adding the actual value for a given p\n",
    "        f_cum = np.append(f_cum, y_cum.iloc[learning_end + span + horiz + len(pred)] + f) # add actual value for the given forecast period\n",
    "        o_cum = np.append(o_cum, y_cum.iloc[learning_end + span] + o) # add observed value for a given o\n",
    "    elif (n > 0):\n",
    "        p_cum = np.append(p_cum, p_cum[n-1] + p) # append for new n values\n",
    "        f_cum = np.append(f_cum, f_cum[n-1] + f)\n",
    "        o_cum = np.append(o_cum, o_cum[n-1] + o)\n",
    "    d = round((abs(o - p)), 1) # calculate error term\n",
    "    dsum = dsum + d\n",
    "    x_axis = np.append(x_axis, n) # create x-axis\n",
    "    n = n + 1 # shift to next n\n",
    "    \n",
    "# Calculate error terms\n",
    "avgdiff = dsum / horiz # find the average difference between predictiona nd actual\n",
    "perc1 = round((avgdiff / o) * 100, 2) # find average difference percentage \n",
    "lastdiff = o - p # find the difference between last predicted vs. observed\n",
    "perc2 = round((lastdiff / o) * 100, 2) # find the percentage difference between last predicted vs. observed\n",
    "\n",
    "print (\"avg diff: \", avgdiff, \" (\", perc1, \"%)\")\n",
    "print (\"final diff: \", lastdiff, \" (\", perc2, \"%)\")"
   ]
  },
  {
   "cell_type": "code",
   "execution_count": 41,
   "metadata": {
    "scrolled": true
   },
   "outputs": [
    {
     "name": "stdout",
     "output_type": "stream",
     "text": [
      "Avg. In-Sample Error:  14.1 %\n",
      "Avg. Out-of-Sample Error:  9.5 %\n"
     ]
    }
   ],
   "source": [
    "# Create finalized set of data\n",
    "# Select observed and predicted values\n",
    "nsample = 0\n",
    "predictions = pred_s[0:horiz, nsample] # Select predictions\n",
    "observables = y_s[0:horiz, nsample] # Select observed values\n",
    "forecasts = fcst_s[0:horiz, nsample] # Select forecast values\n",
    "diff = abs(observables - predictions) / observables * 100 # Perc. difference with respect to observed value\n",
    "diffcum = abs(o_cum - p_cum) / o_cum * 100 # Perc. difference with respect to observaed value of cum. dist.\n",
    "dat = dates[span + learning_end + 1 + nsample:span + learning_end + 1 + nsample + horiz]\n",
    "dat_concat = dates[span + learning_end + 1 + nsample:span + learning_end + 1 + nsample + 2*horiz]\n",
    "\n",
    "# Include OOS variables\n",
    "OOS_observables = y_1.iloc[learning_end + horiz + span + 1: learning_end + 2*horiz + span + 1] # Find OOS values for use in calculating error terms\n",
    "OOS_observables = np.array(OOS_observables, dtype=pd.Series)\n",
    "OOS_diff = abs(OOS_observables - forecasts) / OOS_observables # Calculate OOS error terms \n",
    "OOS_obs_df = pd.DataFrame(data = OOS_observables, index = dat.index + horiz, columns = ['OOS observations'])\n",
    "\n",
    "# Convert to df\n",
    "pred_df = pd.DataFrame(data = predictions, index = dat.index, columns = ['predictions'])\n",
    "obs_df = pd.DataFrame(data = observables, index = dat.index, columns = ['observations'])\n",
    "f_df = pd.DataFrame(data = forecasts, index = dat.index + horiz, columns = ['forecasts']) \n",
    "diff_df = pd.DataFrame(data = diff, index = dat.index, columns = ['diff (%)'])\n",
    "p_cum_df = pd.DataFrame(data = p_cum, index = dat.index, columns = ['predictions cumul'])\n",
    "f_cum_df = pd.DataFrame(data = f_cum, index = dat.index + horiz, columns = ['actual fcst cumul'])\n",
    "o_cum_df = pd.DataFrame(data = o_cum, index = dat.index, columns = ['observations cumul'])\n",
    "diffcum_df = pd.DataFrame(data = diffcum, index = dat.index, columns = ['diff cumul (%)'])\n",
    "\n",
    "# Capture error terms\n",
    "Avg_IS_Error = round(sum(diff_df.iloc[:, 0])/(horiz), 1)\n",
    "Avg_OOS_Error = round(sum(OOS_diff * 100)/(horiz), 1)\n",
    "\n",
    "# Report average in-sample error terms\n",
    "print (\"Avg. In-Sample Error: \", Avg_IS_Error, \"%\")\n",
    "print (\"Avg. Out-of-Sample Error: \", Avg_OOS_Error, \"%\")"
   ]
  },
  {
   "cell_type": "markdown",
   "metadata": {},
   "source": [
    "## Visualizations\n",
    "* Concatenate important outputs\n",
    "* Plot results for visual comparison"
   ]
  },
  {
   "cell_type": "code",
   "execution_count": 42,
   "metadata": {
    "scrolled": true
   },
   "outputs": [
    {
     "data": {
      "text/html": [
       "<div>\n",
       "<style>\n",
       "    .dataframe thead tr:only-child th {\n",
       "        text-align: right;\n",
       "    }\n",
       "\n",
       "    .dataframe thead th {\n",
       "        text-align: left;\n",
       "    }\n",
       "\n",
       "    .dataframe tbody tr th {\n",
       "        vertical-align: top;\n",
       "    }\n",
       "</style>\n",
       "<table border=\"1\" class=\"dataframe\">\n",
       "  <thead>\n",
       "    <tr style=\"text-align: right;\">\n",
       "      <th></th>\n",
       "      <th>Year / Quarter</th>\n",
       "      <th>predictions</th>\n",
       "      <th>observations</th>\n",
       "      <th>diff (%)</th>\n",
       "      <th>predictions cumul</th>\n",
       "      <th>observations cumul</th>\n",
       "      <th>diff cumul (%)</th>\n",
       "      <th>forecasts</th>\n",
       "      <th>actual fcst cumul</th>\n",
       "      <th>OOS observations</th>\n",
       "    </tr>\n",
       "  </thead>\n",
       "  <tbody>\n",
       "    <tr>\n",
       "      <th>64</th>\n",
       "      <td>2012Q1</td>\n",
       "      <td>825.054810</td>\n",
       "      <td>673.0</td>\n",
       "      <td>22.593582</td>\n",
       "      <td>41251.054810</td>\n",
       "      <td>41099.0</td>\n",
       "      <td>0.369972</td>\n",
       "      <td>NaN</td>\n",
       "      <td>NaN</td>\n",
       "      <td>NaN</td>\n",
       "    </tr>\n",
       "    <tr>\n",
       "      <th>65</th>\n",
       "      <td>2012Q2</td>\n",
       "      <td>797.608948</td>\n",
       "      <td>665.0</td>\n",
       "      <td>19.941195</td>\n",
       "      <td>42048.663757</td>\n",
       "      <td>41764.0</td>\n",
       "      <td>0.681601</td>\n",
       "      <td>NaN</td>\n",
       "      <td>NaN</td>\n",
       "      <td>NaN</td>\n",
       "    </tr>\n",
       "    <tr>\n",
       "      <th>66</th>\n",
       "      <td>2012Q3</td>\n",
       "      <td>873.576111</td>\n",
       "      <td>739.0</td>\n",
       "      <td>18.210570</td>\n",
       "      <td>42922.239868</td>\n",
       "      <td>42503.0</td>\n",
       "      <td>0.986377</td>\n",
       "      <td>NaN</td>\n",
       "      <td>NaN</td>\n",
       "      <td>NaN</td>\n",
       "    </tr>\n",
       "    <tr>\n",
       "      <th>67</th>\n",
       "      <td>2012Q4</td>\n",
       "      <td>719.371948</td>\n",
       "      <td>662.0</td>\n",
       "      <td>8.666457</td>\n",
       "      <td>43641.611816</td>\n",
       "      <td>43165.0</td>\n",
       "      <td>1.104163</td>\n",
       "      <td>NaN</td>\n",
       "      <td>NaN</td>\n",
       "      <td>NaN</td>\n",
       "    </tr>\n",
       "    <tr>\n",
       "      <th>68</th>\n",
       "      <td>2013Q1</td>\n",
       "      <td>685.427612</td>\n",
       "      <td>654.0</td>\n",
       "      <td>4.805445</td>\n",
       "      <td>44327.039429</td>\n",
       "      <td>43819.0</td>\n",
       "      <td>1.159404</td>\n",
       "      <td>NaN</td>\n",
       "      <td>NaN</td>\n",
       "      <td>NaN</td>\n",
       "    </tr>\n",
       "    <tr>\n",
       "      <th>69</th>\n",
       "      <td>2013Q2</td>\n",
       "      <td>689.130249</td>\n",
       "      <td>624.0</td>\n",
       "      <td>10.437540</td>\n",
       "      <td>45016.169678</td>\n",
       "      <td>44443.0</td>\n",
       "      <td>1.289674</td>\n",
       "      <td>NaN</td>\n",
       "      <td>NaN</td>\n",
       "      <td>NaN</td>\n",
       "    </tr>\n",
       "    <tr>\n",
       "      <th>70</th>\n",
       "      <td>2013Q3</td>\n",
       "      <td>NaN</td>\n",
       "      <td>NaN</td>\n",
       "      <td>NaN</td>\n",
       "      <td>NaN</td>\n",
       "      <td>NaN</td>\n",
       "      <td>NaN</td>\n",
       "      <td>776.531860</td>\n",
       "      <td>46607.531860</td>\n",
       "      <td>734</td>\n",
       "    </tr>\n",
       "    <tr>\n",
       "      <th>71</th>\n",
       "      <td>2013Q4</td>\n",
       "      <td>NaN</td>\n",
       "      <td>NaN</td>\n",
       "      <td>NaN</td>\n",
       "      <td>NaN</td>\n",
       "      <td>NaN</td>\n",
       "      <td>NaN</td>\n",
       "      <td>722.670471</td>\n",
       "      <td>47330.202332</td>\n",
       "      <td>654</td>\n",
       "    </tr>\n",
       "    <tr>\n",
       "      <th>72</th>\n",
       "      <td>2014Q1</td>\n",
       "      <td>NaN</td>\n",
       "      <td>NaN</td>\n",
       "      <td>NaN</td>\n",
       "      <td>NaN</td>\n",
       "      <td>NaN</td>\n",
       "      <td>NaN</td>\n",
       "      <td>709.619812</td>\n",
       "      <td>48039.822144</td>\n",
       "      <td>639</td>\n",
       "    </tr>\n",
       "    <tr>\n",
       "      <th>73</th>\n",
       "      <td>2014Q2</td>\n",
       "      <td>NaN</td>\n",
       "      <td>NaN</td>\n",
       "      <td>NaN</td>\n",
       "      <td>NaN</td>\n",
       "      <td>NaN</td>\n",
       "      <td>NaN</td>\n",
       "      <td>699.907471</td>\n",
       "      <td>48739.729614</td>\n",
       "      <td>656</td>\n",
       "    </tr>\n",
       "    <tr>\n",
       "      <th>74</th>\n",
       "      <td>2014Q3</td>\n",
       "      <td>NaN</td>\n",
       "      <td>NaN</td>\n",
       "      <td>NaN</td>\n",
       "      <td>NaN</td>\n",
       "      <td>NaN</td>\n",
       "      <td>NaN</td>\n",
       "      <td>768.333496</td>\n",
       "      <td>49508.063110</td>\n",
       "      <td>691</td>\n",
       "    </tr>\n",
       "    <tr>\n",
       "      <th>75</th>\n",
       "      <td>2014Q4</td>\n",
       "      <td>NaN</td>\n",
       "      <td>NaN</td>\n",
       "      <td>NaN</td>\n",
       "      <td>NaN</td>\n",
       "      <td>NaN</td>\n",
       "      <td>NaN</td>\n",
       "      <td>686.533813</td>\n",
       "      <td>50194.596924</td>\n",
       "      <td>615</td>\n",
       "    </tr>\n",
       "  </tbody>\n",
       "</table>\n",
       "</div>"
      ],
      "text/plain": [
       "   Year / Quarter  predictions  observations   diff (%)  predictions cumul  \\\n",
       "64         2012Q1   825.054810         673.0  22.593582       41251.054810   \n",
       "65         2012Q2   797.608948         665.0  19.941195       42048.663757   \n",
       "66         2012Q3   873.576111         739.0  18.210570       42922.239868   \n",
       "67         2012Q4   719.371948         662.0   8.666457       43641.611816   \n",
       "68         2013Q1   685.427612         654.0   4.805445       44327.039429   \n",
       "69         2013Q2   689.130249         624.0  10.437540       45016.169678   \n",
       "70         2013Q3          NaN           NaN        NaN                NaN   \n",
       "71         2013Q4          NaN           NaN        NaN                NaN   \n",
       "72         2014Q1          NaN           NaN        NaN                NaN   \n",
       "73         2014Q2          NaN           NaN        NaN                NaN   \n",
       "74         2014Q3          NaN           NaN        NaN                NaN   \n",
       "75         2014Q4          NaN           NaN        NaN                NaN   \n",
       "\n",
       "    observations cumul  diff cumul (%)   forecasts  actual fcst cumul  \\\n",
       "64             41099.0        0.369972         NaN                NaN   \n",
       "65             41764.0        0.681601         NaN                NaN   \n",
       "66             42503.0        0.986377         NaN                NaN   \n",
       "67             43165.0        1.104163         NaN                NaN   \n",
       "68             43819.0        1.159404         NaN                NaN   \n",
       "69             44443.0        1.289674         NaN                NaN   \n",
       "70                 NaN             NaN  776.531860       46607.531860   \n",
       "71                 NaN             NaN  722.670471       47330.202332   \n",
       "72                 NaN             NaN  709.619812       48039.822144   \n",
       "73                 NaN             NaN  699.907471       48739.729614   \n",
       "74                 NaN             NaN  768.333496       49508.063110   \n",
       "75                 NaN             NaN  686.533813       50194.596924   \n",
       "\n",
       "   OOS observations  \n",
       "64              NaN  \n",
       "65              NaN  \n",
       "66              NaN  \n",
       "67              NaN  \n",
       "68              NaN  \n",
       "69              NaN  \n",
       "70              734  \n",
       "71              654  \n",
       "72              639  \n",
       "73              656  \n",
       "74              691  \n",
       "75              615  "
      ]
     },
     "execution_count": 42,
     "metadata": {},
     "output_type": "execute_result"
    }
   ],
   "source": [
    "# Concatenate dataframes into predictions vs. obsefvations\n",
    "output_df = pd.concat([dat_concat, pred_df, obs_df, diff_df, p_cum_df, o_cum_df, diffcum_df, f_df, f_cum_df, OOS_obs_df], axis = 1)\n",
    "\n",
    "# View output\n",
    "output_df"
   ]
  },
  {
   "cell_type": "code",
   "execution_count": 43,
   "metadata": {},
   "outputs": [
    {
     "data": {
      "image/png": "[encoded data removed]",
      "text/plain": [
       "<matplotlib.figure.Figure at 0x229608dd128>"
      ]
     },
     "metadata": {},
     "output_type": "display_data"
    }
   ],
   "source": [
    "# Visualize outputs\n",
    "plt.clf()\n",
    "plt.plot(output_df['predictions'], color = 'blue', lw = 2, marker = 'o')\n",
    "plt.plot(output_df['observations'], color = 'black', lw = 2, marker = 's')\n",
    "plt.plot(output_df['forecasts'], color = 'aqua', lw = 2, marker = 'o')\n",
    "if trainingsize != 100:\n",
    "    plt.plot(output_df['OOS observations'], color = 'gray', lw = 2, marker = 's')\n",
    "plt.xticks(output_df.index, output_df['Year / Quarter'])\n",
    "plt.xlabel('Year / Quarter')\n",
    "plt.ylabel('New Subscribers')\n",
    "plt.legend(loc = 'lower left')\n",
    "plt.show()"
   ]
  }
 ],
 "metadata": {
  "kernelspec": {
   "display_name": "Python 3",
   "language": "python",
   "name": "python3"
  },
  "language_info": {
   "codemirror_mode": {
    "name": "ipython",
    "version": 3
   },
   "file_extension": ".py",
   "mimetype": "text/x-python",
   "name": "python",
   "nbconvert_exporter": "python",
   "pygments_lexer": "ipython3",
   "version": "3.6.1"
  }
 },
 "nbformat": 4,
 "nbformat_minor": 2
}
