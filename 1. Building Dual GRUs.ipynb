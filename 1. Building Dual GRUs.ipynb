{
 "cells": [
  {
   "cell_type": "markdown",
   "metadata": {},
   "source": [
    "# Forecasting Dish Subscribers Using Gated Recurrent Units (GRUs) - Part 1\n",
    "\n",
    "In the code below, we develop our underlying models using the methodology defined in the README."
   ]
  },
  {
   "cell_type": "markdown",
   "metadata": {},
   "source": [
    "## Setup\n",
    "\n",
    "* Import packages\n",
    "* Set parameters\n",
    "* Define file paths\n",
    "* Load data from Excel"
   ]
  },
  {
   "cell_type": "code",
   "execution_count": 65,
   "metadata": {
    "collapsed": true,
    "scrolled": true
   },
   "outputs": [],
   "source": [
    "# Import packages\n",
    "import numpy as np\n",
    "import pandas as pd\n",
    "from sklearn import preprocessing\n",
    "from keras.layers import Input, GRU, Dense, concatenate, Activation\n",
    "from keras.models import Model\n",
    "import datetime\n",
    "import sys\n",
    "import random\n",
    "import matplotlib as mpl\n",
    "import matplotlib.pyplot as plt"
   ]
  },
  {
   "cell_type": "code",
   "execution_count": 66,
   "metadata": {
    "collapsed": true
   },
   "outputs": [],
   "source": [
    "# Set parameters\n",
    "trainingsize = 80 # Percent of data to use in training set\n",
    "validation_size = 0 # Validation size for use in Keras' .fit\n",
    "shuffle = False # shuffles inputs when fitting model\n",
    "GRUnodes = 64\n",
    "path = \"C:\\\\Users\\\\nthor\\\\Desktop\\\\Kaggle\\\\Python\\\\\"\n",
    "file = \"Dish Datav2.xlsx\" # Name of .xlsx file\n",
    "sheet = \"Data\" # Name of .xlsx sheet\n",
    "span = 10 # the size of our time 'windows'\n",
    "horiz = 8 # the number of time 'windows' \n",
    "yweight = .4 # Weight of RNN based on y only\n",
    "xyweight = 1 - yweight # Weight of RNN based on x + y\n",
    "n_epoch = 500 # set number of epochs\n",
    "verbose = False\n",
    "time_increment = 91 # delta_t used to create next series of dat. we're using quarters in our example"
   ]
  },
  {
   "cell_type": "code",
   "execution_count": 67,
   "metadata": {
    "collapsed": true
   },
   "outputs": [],
   "source": [
    "# Set random seed\n",
    "seed = 2017\n",
    "np.random.seed(seed)"
   ]
  },
  {
   "cell_type": "code",
   "execution_count": 68,
   "metadata": {
    "collapsed": true
   },
   "outputs": [],
   "source": [
    "# Load data\n",
    "loc = path + file\n",
    "\n",
    "# Open spreadsheet\n",
    "Excel = pd.ExcelFile(loc)\n",
    "raw = Excel.parse('Data')"
   ]
  },
  {
   "cell_type": "code",
   "execution_count": 69,
   "metadata": {},
   "outputs": [
    {
     "data": {
      "text/html": [
       "<div>\n",
       "<style>\n",
       "    .dataframe thead tr:only-child th {\n",
       "        text-align: right;\n",
       "    }\n",
       "\n",
       "    .dataframe thead th {\n",
       "        text-align: left;\n",
       "    }\n",
       "\n",
       "    .dataframe tbody tr th {\n",
       "        vertical-align: top;\n",
       "    }\n",
       "</style>\n",
       "<table border=\"1\" class=\"dataframe\">\n",
       "  <thead>\n",
       "    <tr style=\"text-align: right;\">\n",
       "      <th></th>\n",
       "      <th>#</th>\n",
       "      <th>Year / Quarter</th>\n",
       "      <th>Pay-TV Customers Acq. (in hundred thousands)</th>\n",
       "      <th>Cum. Customers Acq.</th>\n",
       "      <th>Q1 Impact</th>\n",
       "      <th>Q2 Impact</th>\n",
       "      <th>Q3 Impact</th>\n",
       "      <th>Recession</th>\n",
       "      <th>Sub. Promotion Subsidies</th>\n",
       "      <th>Recreation services</th>\n",
       "      <th>US GDP</th>\n",
       "      <th>Product Releases</th>\n",
       "    </tr>\n",
       "  </thead>\n",
       "  <tbody>\n",
       "    <tr>\n",
       "      <th>0</th>\n",
       "      <td>1</td>\n",
       "      <td>1996Q1</td>\n",
       "      <td>2</td>\n",
       "      <td>2</td>\n",
       "      <td>1</td>\n",
       "      <td>0</td>\n",
       "      <td>0</td>\n",
       "      <td>0</td>\n",
       "      <td>33591</td>\n",
       "      <td>189.8</td>\n",
       "      <td>0.0461</td>\n",
       "      <td>0</td>\n",
       "    </tr>\n",
       "    <tr>\n",
       "      <th>1</th>\n",
       "      <td>2</td>\n",
       "      <td>1996Q2</td>\n",
       "      <td>29</td>\n",
       "      <td>31</td>\n",
       "      <td>0</td>\n",
       "      <td>1</td>\n",
       "      <td>0</td>\n",
       "      <td>0</td>\n",
       "      <td>33591</td>\n",
       "      <td>193.6</td>\n",
       "      <td>0.0600</td>\n",
       "      <td>0</td>\n",
       "    </tr>\n",
       "    <tr>\n",
       "      <th>2</th>\n",
       "      <td>3</td>\n",
       "      <td>1996Q3</td>\n",
       "      <td>70</td>\n",
       "      <td>101</td>\n",
       "      <td>0</td>\n",
       "      <td>0</td>\n",
       "      <td>1</td>\n",
       "      <td>0</td>\n",
       "      <td>33591</td>\n",
       "      <td>198.4</td>\n",
       "      <td>0.0587</td>\n",
       "      <td>0</td>\n",
       "    </tr>\n",
       "    <tr>\n",
       "      <th>3</th>\n",
       "      <td>4</td>\n",
       "      <td>1996Q4</td>\n",
       "      <td>104</td>\n",
       "      <td>205</td>\n",
       "      <td>0</td>\n",
       "      <td>0</td>\n",
       "      <td>0</td>\n",
       "      <td>0</td>\n",
       "      <td>33591</td>\n",
       "      <td>200.6</td>\n",
       "      <td>0.0625</td>\n",
       "      <td>0</td>\n",
       "    </tr>\n",
       "    <tr>\n",
       "      <th>4</th>\n",
       "      <td>5</td>\n",
       "      <td>1997Q1</td>\n",
       "      <td>133</td>\n",
       "      <td>338</td>\n",
       "      <td>1</td>\n",
       "      <td>0</td>\n",
       "      <td>0</td>\n",
       "      <td>0</td>\n",
       "      <td>145061</td>\n",
       "      <td>204.2</td>\n",
       "      <td>0.0645</td>\n",
       "      <td>0</td>\n",
       "    </tr>\n",
       "  </tbody>\n",
       "</table>\n",
       "</div>"
      ],
      "text/plain": [
       "   # Year / Quarter  Pay-TV Customers Acq. (in hundred thousands)  \\\n",
       "0  1         1996Q1                                             2   \n",
       "1  2         1996Q2                                            29   \n",
       "2  3         1996Q3                                            70   \n",
       "3  4         1996Q4                                           104   \n",
       "4  5         1997Q1                                           133   \n",
       "\n",
       "   Cum. Customers Acq.  Q1 Impact  Q2 Impact  Q3 Impact  Recession  \\\n",
       "0                    2          1          0          0          0   \n",
       "1                   31          0          1          0          0   \n",
       "2                  101          0          0          1          0   \n",
       "3                  205          0          0          0          0   \n",
       "4                  338          1          0          0          0   \n",
       "\n",
       "   Sub. Promotion Subsidies  Recreation services  US GDP  Product Releases  \n",
       "0                     33591                189.8  0.0461                 0  \n",
       "1                     33591                193.6  0.0600                 0  \n",
       "2                     33591                198.4  0.0587                 0  \n",
       "3                     33591                200.6  0.0625                 0  \n",
       "4                    145061                204.2  0.0645                 0  "
      ]
     },
     "execution_count": 69,
     "metadata": {},
     "output_type": "execute_result"
    }
   ],
   "source": [
    "# View data\n",
    "raw.head()"
   ]
  },
  {
   "cell_type": "code",
   "execution_count": 70,
   "metadata": {
    "collapsed": true
   },
   "outputs": [],
   "source": [
    "# Load variables (convert to float64 to pre-empt modeling issues)\n",
    "lastrow = len(raw) # Find the last row (valid + forecast)\n",
    "\n",
    "t = raw.iloc[0:lastrow, 0].astype('float64') # Time-steps (1,2, etc.)\n",
    "dates = raw.iloc[0:lastrow, 1] # Quarter dates (e.g., 1996Q1)\n",
    "newcust = raw.iloc[0:lastrow, 2].astype('float64') # Number of new Pay-TV customers\n",
    "cumcust = raw.iloc[0:lastrow, 3].astype('float64') # Cumulative number of Pay-TV customers\n",
    "q1 = raw.iloc[0:lastrow, 4].astype('float64') # Indicator for Q1 (created to capture seasonality effects)\n",
    "q2 = raw.iloc[0:lastrow, 5].astype('float64') # Indicator for Q1 (created to capture seasonality effects)\n",
    "q3 = raw.iloc[0:lastrow, 6].astype('float64') # Indicator for Q1 (created to capture seasonality effects)\n",
    "recession = raw.iloc[0:lastrow, 7].astype('float64') # Indicator for the 2008 recession\n",
    "subsidies = raw.iloc[0:lastrow, 8].astype('float64') # Dish promotional subsidies ($)\n",
    "rec_spend = raw.iloc[0:lastrow, 9].astype('float64') # US Census avg. recreational spend by household\n",
    "GDP = raw.iloc[0:lastrow, 10].astype('float64') # US GDP (%)\n",
    "newprod = raw.iloc[0:lastrow, 11].astype('float64') # Indicator for introduction of SlingTV (low cost \"cut the cord\" option that likely led to a spike in subscribers)"
   ]
  },
  {
   "cell_type": "markdown",
   "metadata": {},
   "source": [
    "## Data Transformation & Model Preparation\n",
    "\n",
    "* Log-transform variables\n",
    "* Define x and y variables\n",
    "* Normalize metrics\n",
    "* Define lag variables using user-defined 'span' variable"
   ]
  },
  {
   "cell_type": "code",
   "execution_count": 71,
   "metadata": {
    "collapsed": true
   },
   "outputs": [],
   "source": [
    "# Log-transform large variables to minimize outlier effects\n",
    "ln_rec_spend = np.log(rec_spend)\n",
    "ln_subsidies = np.log(subsidies)"
   ]
  },
  {
   "cell_type": "code",
   "execution_count": 72,
   "metadata": {
    "collapsed": true
   },
   "outputs": [],
   "source": [
    "# Define x and y variables (named as '_1' to denote pre-normalized values)\n",
    "x_1 = pd.concat([q1, q2, q3, recession, ln_rec_spend, ln_subsidies, newprod], axis = 1)\n",
    "y_1 = newcust\n",
    "y_cum = cumcust "
   ]
  },
  {
   "cell_type": "code",
   "execution_count": 73,
   "metadata": {
    "scrolled": true
   },
   "outputs": [
    {
     "data": {
      "text/html": [
       "<div>\n",
       "<style>\n",
       "    .dataframe thead tr:only-child th {\n",
       "        text-align: right;\n",
       "    }\n",
       "\n",
       "    .dataframe thead th {\n",
       "        text-align: left;\n",
       "    }\n",
       "\n",
       "    .dataframe tbody tr th {\n",
       "        vertical-align: top;\n",
       "    }\n",
       "</style>\n",
       "<table border=\"1\" class=\"dataframe\">\n",
       "  <thead>\n",
       "    <tr style=\"text-align: right;\">\n",
       "      <th></th>\n",
       "      <th>Q1 Impact</th>\n",
       "      <th>Q2 Impact</th>\n",
       "      <th>Q3 Impact</th>\n",
       "      <th>Recession</th>\n",
       "      <th>Recreation services</th>\n",
       "      <th>Sub. Promotion Subsidies</th>\n",
       "      <th>Product Releases</th>\n",
       "    </tr>\n",
       "  </thead>\n",
       "  <tbody>\n",
       "    <tr>\n",
       "      <th>0</th>\n",
       "      <td>1.0</td>\n",
       "      <td>0.0</td>\n",
       "      <td>0.0</td>\n",
       "      <td>0.0</td>\n",
       "      <td>5.245971</td>\n",
       "      <td>10.422013</td>\n",
       "      <td>0.0</td>\n",
       "    </tr>\n",
       "    <tr>\n",
       "      <th>1</th>\n",
       "      <td>0.0</td>\n",
       "      <td>1.0</td>\n",
       "      <td>0.0</td>\n",
       "      <td>0.0</td>\n",
       "      <td>5.265794</td>\n",
       "      <td>10.422013</td>\n",
       "      <td>0.0</td>\n",
       "    </tr>\n",
       "    <tr>\n",
       "      <th>2</th>\n",
       "      <td>0.0</td>\n",
       "      <td>0.0</td>\n",
       "      <td>1.0</td>\n",
       "      <td>0.0</td>\n",
       "      <td>5.290285</td>\n",
       "      <td>10.422013</td>\n",
       "      <td>0.0</td>\n",
       "    </tr>\n",
       "    <tr>\n",
       "      <th>3</th>\n",
       "      <td>0.0</td>\n",
       "      <td>0.0</td>\n",
       "      <td>0.0</td>\n",
       "      <td>0.0</td>\n",
       "      <td>5.301313</td>\n",
       "      <td>10.422013</td>\n",
       "      <td>0.0</td>\n",
       "    </tr>\n",
       "    <tr>\n",
       "      <th>4</th>\n",
       "      <td>1.0</td>\n",
       "      <td>0.0</td>\n",
       "      <td>0.0</td>\n",
       "      <td>0.0</td>\n",
       "      <td>5.319100</td>\n",
       "      <td>11.884910</td>\n",
       "      <td>0.0</td>\n",
       "    </tr>\n",
       "  </tbody>\n",
       "</table>\n",
       "</div>"
      ],
      "text/plain": [
       "   Q1 Impact  Q2 Impact  Q3 Impact  Recession  Recreation services  \\\n",
       "0        1.0        0.0        0.0        0.0             5.245971   \n",
       "1        0.0        1.0        0.0        0.0             5.265794   \n",
       "2        0.0        0.0        1.0        0.0             5.290285   \n",
       "3        0.0        0.0        0.0        0.0             5.301313   \n",
       "4        1.0        0.0        0.0        0.0             5.319100   \n",
       "\n",
       "   Sub. Promotion Subsidies  Product Releases  \n",
       "0                 10.422013               0.0  \n",
       "1                 10.422013               0.0  \n",
       "2                 10.422013               0.0  \n",
       "3                 10.422013               0.0  \n",
       "4                 11.884910               0.0  "
      ]
     },
     "execution_count": 73,
     "metadata": {},
     "output_type": "execute_result"
    }
   ],
   "source": [
    "# View x variables\n",
    "x_1.head()"
   ]
  },
  {
   "cell_type": "code",
   "execution_count": 74,
   "metadata": {
    "collapsed": true
   },
   "outputs": [],
   "source": [
    "# Normalize metrics\n",
    "scaler_x = preprocessing.MinMaxScaler(feature_range = (0,1)) # Create scaler\n",
    "scaler_y = preprocessing.MinMaxScaler(feature_range = (0,1))\n",
    "\n",
    "x = np.array(x_1).reshape((len(x_1), len(x_1.columns))) # Reshape to avoid deprecation warning\n",
    "x = scaler_x.fit_transform(x) # Transform x elements\n",
    "\n",
    "y = np.array(y_1).reshape((len(y_1), 1))\n",
    "y = scaler_y.fit_transform(y)"
   ]
  },
  {
   "cell_type": "code",
   "execution_count": 75,
   "metadata": {
    "collapsed": true
   },
   "outputs": [],
   "source": [
    "# Assemble matrices containing samples of x-spans, y-spans, and y-horizons across the available timeline\n",
    "nsample = lastrow - horiz - span # The number of samples equals the number of observations minus our number of time lag and prediction observations\n",
    "x_list = [np.expand_dims(np.atleast_2d(x[i:span + i,:]), axis = 0) for i in range(nsample)] # Group observations by our span parameter (2 by default)\n",
    "x_mat = np.concatenate(x_list, axis = 0) # Concatenate these lists into a single numpy array\n",
    "\n",
    "# Define y lag period\n",
    "ylag_list = [np.expand_dims(np.atleast_2d(y[i:span + i, :]), axis = 0) for i in range(nsample)]\n",
    "ylag_mat = np.concatenate(ylag_list, axis = 0) # Essentially are adding another list level: row to span period (2 by default)\n",
    "\n",
    "# Define target horizon\n",
    "y_list = [np.atleast_2d(y[i + span:span + i + horiz, 0]) for i in range(nsample)] # Groups the elements in y by our horizon parameter (i.e., groups 4 together into one list entry)\n",
    "y_mat = np.concatenate(y_list, axis = 0) # Concatenate all list entries\n",
    "\n",
    "# Define which observations (default of two span periods)\n",
    "ilast = nsample # We will later reset nsample to zero, so need to define a new variable\n",
    "xlast_list = [np.expand_dims(np.atleast_2d(x[ilast : ilast + span,:]), axis = 0)]\n",
    "xlast_mat = np.concatenate(xlast_list, axis = 0)\n",
    "\n",
    "# Define inputs to create forecasts\n",
    "ylastlag_list = [np.expand_dims(np.atleast_2d(y[ilast : ilast + span, :]), axis = 0)]\n",
    "ylastlag_mat = np.concatenate(ylastlag_list, axis = 0)"
   ]
  },
  {
   "cell_type": "markdown",
   "metadata": {},
   "source": [
    "## Modeling\n",
    "* Split into test and training\n",
    "* Develop GRUs and merge layers\n",
    "* Train the model and fit results\n",
    "* Generate forecasts"
   ]
  },
  {
   "cell_type": "markdown",
   "metadata": {},
   "source": [
    "### Split data into test and training"
   ]
  },
  {
   "cell_type": "code",
   "execution_count": 76,
   "metadata": {
    "collapsed": true
   },
   "outputs": [],
   "source": [
    "# Define training sets\n",
    "end = y_mat.shape[0]\n",
    "learning_end = ((end) * trainingsize)//100 # Marks end of training set\n",
    "\n",
    "x_mat_train = x_mat[0:learning_end,] # Define x-variables in training set\n",
    "y_mat_train = y_mat[0:learning_end,] # Define y-variable in training set\n",
    "ylag_mat_train = ylag_mat[0:learning_end,] # Define lagging y-variables in training set"
   ]
  },
  {
   "cell_type": "code",
   "execution_count": 77,
   "metadata": {
    "collapsed": true
   },
   "outputs": [],
   "source": [
    "# Define test sets\n",
    "x_mat_test = x_mat[learning_end + 1:lastrow,] # Define x-variables in test set\n",
    "y_mat_test = y_mat[learning_end + 1:lastrow,] # Contains 15-time spans, with each t+1 from the preceeding span equaling t in the proceeding span \n",
    "ylag_mat_test = ylag_mat[learning_end + 1:lastrow,]"
   ]
  },
  {
   "cell_type": "code",
   "execution_count": 78,
   "metadata": {
    "scrolled": true
   },
   "outputs": [
    {
     "data": {
      "text/plain": [
       "(52, 10, 7)"
      ]
     },
     "execution_count": 78,
     "metadata": {},
     "output_type": "execute_result"
    }
   ],
   "source": [
    "# Observe shape of training set to spot-check; we expect the 61 observations from our training set to be grouped into groups of 2 (per span) with 7 elements per observation\n",
    "x_mat_train.shape"
   ]
  },
  {
   "cell_type": "markdown",
   "metadata": {},
   "source": [
    "### Develop GRUs"
   ]
  },
  {
   "cell_type": "code",
   "execution_count": 79,
   "metadata": {
    "collapsed": true
   },
   "outputs": [],
   "source": [
    "# Create baseline (\"main\") GRU network\n",
    "main_in = Input(shape = (ylag_mat_train.shape[1], 1), dtype = 'float32', name = 'main_in') # Initialize input layer and define data shape\n",
    "main_gru = GRU(return_sequences = False, activation = 'tanh', units = GRUnodes, recurrent_activation = 'hard_sigmoid')(main_in) # Creates GRU with pre-defined number of nodes using tanh activation function\n",
    "main_out = Dense(horiz, activation = 'linear', name = 'main_out')(main_gru) # Implements the operation without any activation being applied (i.e., linear)"
   ]
  },
  {
   "cell_type": "code",
   "execution_count": 80,
   "metadata": {
    "collapsed": true
   },
   "outputs": [],
   "source": [
    "# Create separate GRU network for both exogenous and endogenous metrics\n",
    "exo_in = Input(shape = (x_mat_train.shape[1], x_mat_train.shape[2]), dtype = 'float32', name = 'exo_in') # Shapes the input using the number of rows (2) and columns (7) in the array\n",
    "exo_gru = GRU(return_sequences = False, activation = 'tanh', units = GRUnodes, recurrent_activation = 'hard_sigmoid')(exo_in)\n",
    "exo_out = Dense(horiz, activation = 'linear', name = 'exo_out')(exo_gru)"
   ]
  },
  {
   "cell_type": "code",
   "execution_count": 81,
   "metadata": {
    "collapsed": true,
    "scrolled": true
   },
   "outputs": [],
   "source": [
    "# Merge the two GRU layers\n",
    "merged_layers = concatenate([main_gru, exo_gru])\n",
    "\n",
    "# Create a dense layer for all merged data elements\n",
    "combo_out = Dense(horiz, activation = 'sigmoid', name = 'combo_out')(merged_layers)"
   ]
  },
  {
   "cell_type": "code",
   "execution_count": 82,
   "metadata": {
    "collapsed": true
   },
   "outputs": [],
   "source": [
    "# Define final model input / output flows; compile parameters\n",
    "model = Model(inputs = [main_in, exo_in], outputs = [main_out, combo_out]) # Creates two lists of entries: our baseline and our combo\n",
    "model.compile(optimizer = 'rmsprop', \n",
    "              loss = 'mean_squared_error', # Uses MSE as error term (rather than MAPE or alternatives) \n",
    "              loss_weights = [yweight, xyweight]) "
   ]
  },
  {
   "cell_type": "markdown",
   "metadata": {},
   "source": [
    "### Train and test the final model"
   ]
  },
  {
   "cell_type": "code",
   "execution_count": 83,
   "metadata": {},
   "outputs": [
    {
     "data": {
      "text/plain": [
       "<keras.callbacks.History at 0x25868643cf8>"
      ]
     },
     "execution_count": 83,
     "metadata": {},
     "output_type": "execute_result"
    }
   ],
   "source": [
    "# Train the final model\n",
    "model.fit({'main_in' : ylag_mat_train, \n",
    "           'exo_in' : x_mat_train}, \n",
    "          {'main_out' : y_mat_train, \n",
    "           'combo_out':y_mat_train},\n",
    "          epochs = n_epoch,\n",
    "          shuffle = shuffle,\n",
    "          validation_split = validation_size,\n",
    "          verbose = verbose)"
   ]
  },
  {
   "cell_type": "code",
   "execution_count": 84,
   "metadata": {
    "collapsed": true
   },
   "outputs": [],
   "source": [
    "# Test the final model\n",
    "pred = model.predict({'main_in' : ylag_mat_test, 'exo_in' : x_mat_test})"
   ]
  },
  {
   "cell_type": "code",
   "execution_count": 85,
   "metadata": {
    "collapsed": true
   },
   "outputs": [],
   "source": [
    "# Forecast y for predictor span that corresponds to horizon for which y(obs) is not known\n",
    "fcst = model.predict({'main_in' : ylastlag_mat, 'exo_in':xlast_mat})"
   ]
  },
  {
   "cell_type": "markdown",
   "metadata": {},
   "source": [
    "## Evaluate Error Terms\n",
    "* Rescale parameters\n",
    "* Evaluate error terms\n",
    "* Calculate out-of-sample (OOS) error terms"
   ]
  },
  {
   "cell_type": "code",
   "execution_count": 86,
   "metadata": {
    "collapsed": true
   },
   "outputs": [],
   "source": [
    "# Rescale predicted and observed values\n",
    "# pred is a list of two lists: pred[0][:] = baseline, pred[1][:] = combo\n",
    "for i in range(0, len(y_mat_test)):\n",
    "    if i == 0:\n",
    "        pred_s = scaler_y.inverse_transform(np.array(pred[1][i]).reshape((len(pred[1][i]), 1)))\n",
    "        y_s = scaler_y.inverse_transform(np.array(y_mat_test[i]).reshape((len(y_mat_test[i]), 1)))\n",
    "        fcst_s = scaler_y.inverse_transform(np.array(fcst[1][i]).reshape((len(fcst[1][i]), 1)))\n",
    "    else:\n",
    "        pred_s = np.concatenate([pred_s, scaler_y.inverse_transform(np.array(pred[1][i]).reshape((len(pred[1][i]), 1)))], axis = 1)\n",
    "        y_s = np.concatenate([y_s, scaler_y.inverse_transform(np.array(y_mat_test[i]).reshape((len(y_mat_test[i]), 1)))], axis = 1)"
   ]
  },
  {
   "cell_type": "code",
   "execution_count": 87,
   "metadata": {},
   "outputs": [
    {
     "data": {
      "text/plain": [
       "(8, 13)"
      ]
     },
     "execution_count": 87,
     "metadata": {},
     "output_type": "execute_result"
    }
   ],
   "source": [
    "# Our prediction output is eight groups of 6 observations each\n",
    "pred_s.shape"
   ]
  },
  {
   "cell_type": "code",
   "execution_count": 88,
   "metadata": {},
   "outputs": [
    {
     "name": "stdout",
     "output_type": "stream",
     "text": [
      "13/13 [==============================] - 0sA: 0s\n"
     ]
    }
   ],
   "source": [
    "# Evaluate the model using three MAPE scores: overall loss, baseline loss, and combo loss\n",
    "MSE_train = model.evaluate({'main_in':ylag_mat_train, 'exo_in':x_mat_train},\n",
    "                          {'main_out':y_mat_train, 'combo_out' : y_mat_train})\n",
    "\n",
    "MSE_test = model.evaluate({'main_in':ylag_mat_test, 'exo_in':x_mat_test},\n",
    "                         {'main_out':y_mat_test, 'combo_out':y_mat_test})"
   ]
  },
  {
   "cell_type": "code",
   "execution_count": 89,
   "metadata": {},
   "outputs": [
    {
     "data": {
      "text/plain": [
       "0.0045551188119973699"
      ]
     },
     "execution_count": 89,
     "metadata": {},
     "output_type": "execute_result"
    }
   ],
   "source": [
    "# View in-sample mean\n",
    "np.mean(MSE_train)"
   ]
  },
  {
   "cell_type": "code",
   "execution_count": 90,
   "metadata": {},
   "outputs": [
    {
     "data": {
      "text/plain": [
       "0.0156355663202703"
      ]
     },
     "execution_count": 90,
     "metadata": {},
     "output_type": "execute_result"
    }
   ],
   "source": [
    "# View out-of-sample error terms\n",
    "np.mean(MSE_test)"
   ]
  },
  {
   "cell_type": "code",
   "execution_count": 91,
   "metadata": {
    "scrolled": true
   },
   "outputs": [
    {
     "name": "stdout",
     "output_type": "stream",
     "text": [
      "avg diff:  51.775  ( 7.05 %)\n",
      "final diff:  -52.2283935547  ( -7.12 %)\n"
     ]
    }
   ],
   "source": [
    "# NOTE: This bit of code is an alternative approach to the error code above (no longer necessary)\n",
    "# Compute error by running through each predicted and observed value\n",
    "nsample = 0 # Index of sample from testing set chosen to illustrate error\n",
    "n = 0 # index within the chosen sample\n",
    "p_cum = np.array([]) # Initiative predicted cumulative distribution of test set (fcst from baseline + combo)\n",
    "f_cum = np.array([]) # Initiative predicted cumulative distribution of actual forecast (fcst from baseline + combo)\n",
    "o_cum = np.array([]) # Observed cum. distribution\n",
    "dsum = 0 # sum of all errors across all steps in this sample\n",
    "\n",
    "# Initialize matrices\n",
    "x_axis = np.array([])\n",
    "\n",
    "while n < horiz: # for as long as n is below our prediction horizon (default = 4)...\n",
    "    p = pred_s[n, nsample] # pick one prediction from a particular sample / quarter\n",
    "    f = fcst_s[n, nsample] # pick one forecast from a particular sample / quarter\n",
    "    o = y_s[n, nsample] # pick one observed count from a particular sample / quarter\n",
    "    if (n == 0):\n",
    "        p_cum = np.append(p_cum, y_cum.iloc[learning_end + span] + p) # start by adding the actual value for a given p\n",
    "        f_cum = np.append(f_cum, y_cum.iloc[learning_end + span + horiz + len(pred)] + f) # add actual value for the given forecast period\n",
    "        o_cum = np.append(o_cum, y_cum.iloc[learning_end + span] + o) # add observed value for a given o\n",
    "    elif (n > 0):\n",
    "        p_cum = np.append(p_cum, p_cum[n-1] + p) # append for new n values\n",
    "        f_cum = np.append(f_cum, f_cum[n-1] + f)\n",
    "        o_cum = np.append(o_cum, o_cum[n-1] + o)\n",
    "    d = round((abs(o - p)), 1) # calculate error term\n",
    "    dsum = dsum + d\n",
    "    x_axis = np.append(x_axis, n) # create x-axis\n",
    "    n = n + 1 # shift to next n\n",
    "    \n",
    "# Calculate error terms\n",
    "avgdiff = dsum / horiz # find the average difference between predictiona nd actual\n",
    "perc1 = round((avgdiff / o) * 100, 2) # find average difference percentage \n",
    "lastdiff = o - p # find the difference between last predicted vs. observed\n",
    "perc2 = round((lastdiff / o) * 100, 2) # find the percentage difference between last predicted vs. observed\n",
    "\n",
    "print (\"avg diff: \", avgdiff, \" (\", perc1, \"%)\")\n",
    "print (\"final diff: \", lastdiff, \" (\", perc2, \"%)\")"
   ]
  },
  {
   "cell_type": "code",
   "execution_count": 95,
   "metadata": {
    "scrolled": false
   },
   "outputs": [
    {
     "name": "stdout",
     "output_type": "stream",
     "text": [
      "Avg. Out-of-Sample Error:  14.6 %\n"
     ]
    }
   ],
   "source": [
    "# Create finalized set of data\n",
    "Avg_OOS_Error_list = [] # initialize list to find minimum value\n",
    "# Select observed and predicted values\n",
    "for i in range(0, pred_s.shape[1] - 1): # for each time window (defined by 'span')\n",
    "    nsample = i\n",
    "    dat = dates[lastrow - horiz:lastrow]\n",
    "    predictions = pred_s[0:horiz, nsample] # Select predictions\n",
    "    observables = np.asarray(y_1[lastrow - horiz:lastrow]) # Select observed values\n",
    "    diff = abs(observables - predictions) / observables * 100 # Perc. difference with respect to observed value\n",
    "    diff_df = pd.DataFrame(data = diff, index = dat.index, columns = ['diff (%)'])\n",
    "    Avg_OOS_Error = round(sum(diff_df.iloc[:, 0])/(horiz), 1) # find Avg. OOS MAPE\n",
    "    Avg_OOS_Error_list.append(Avg_OOS_Error) # Store in list\n",
    "    \n",
    "# Find sample with minimum MAPE\n",
    "min_MAPE = min(Avg_OOS_Error_list) # Find min\n",
    "i = [i for i, j in enumerate(Avg_OOS_Error_list) if j == min_MAPE] # Set sample to that min\n",
    "nsample = int(i[0])\n",
    "\n",
    "# Pull error terms for the correct sample    \n",
    "predictions = pred_s[0:horiz, nsample] # Select predictions\n",
    "observables = np.asarray(y_1[lastrow - horiz:lastrow]) # Select observed values\n",
    "forecasts = fcst_s[0:horiz, 0] # Select forecast values\n",
    "diff = abs(observables - predictions) / observables * 100 # Perc. difference with respect to observed value\n",
    "dat = dates[lastrow - horiz:lastrow]\n",
    "\n",
    "# Fix x-axis for forecast periods\n",
    "fcst_dates = pd.Series(['2017Q1', '2017Q2', '2017Q3', '2017Q4', '2018Q1', '2018Q2', '2018Q3', '2018Q4'], index = [84, 85, 86, 87, 88, 89, 90, 91], name = \"Year / Quarter\")\n",
    "dat_concat = dat.append(fcst_dates)\n",
    "\n",
    "# Convert to df\n",
    "pred_df = pd.DataFrame(data = predictions, index = dat.index, columns = ['predictions'])\n",
    "obs_df = pd.DataFrame(data = observables, index = dat.index, columns = ['observations'])\n",
    "f_df = pd.DataFrame(data = forecasts, index = dat.index + horiz, columns = ['forecasts']) \n",
    "diff_df = pd.DataFrame(data = diff, index = dat.index, columns = ['diff (%)'])\n",
    "\n",
    "# Capture error terms\n",
    "Avg_OOS_Error = round(sum(diff_df.iloc[:, 0])/(horiz), 1)\n",
    "\n",
    "# Report average OOS-sample error terms\n",
    "print (\"Avg. Out-of-Sample Error: \", Avg_OOS_Error, \"%\") # Report lowest OOS MAPE"
   ]
  },
  {
   "cell_type": "markdown",
   "metadata": {},
   "source": [
    "## Visualizations\n",
    "* Concatenate important outputs\n",
    "* Plot results for visual comparison"
   ]
  },
  {
   "cell_type": "code",
   "execution_count": 93,
   "metadata": {
    "scrolled": true
   },
   "outputs": [
    {
     "data": {
      "text/html": [
       "<div>\n",
       "<style>\n",
       "    .dataframe thead tr:only-child th {\n",
       "        text-align: right;\n",
       "    }\n",
       "\n",
       "    .dataframe thead th {\n",
       "        text-align: left;\n",
       "    }\n",
       "\n",
       "    .dataframe tbody tr th {\n",
       "        vertical-align: top;\n",
       "    }\n",
       "</style>\n",
       "<table border=\"1\" class=\"dataframe\">\n",
       "  <thead>\n",
       "    <tr style=\"text-align: right;\">\n",
       "      <th></th>\n",
       "      <th>Year / Quarter</th>\n",
       "      <th>predictions</th>\n",
       "      <th>observations</th>\n",
       "      <th>diff (%)</th>\n",
       "      <th>predictions cumul</th>\n",
       "      <th>observations cumul</th>\n",
       "      <th>diff cumul (%)</th>\n",
       "      <th>forecasts</th>\n",
       "      <th>actual fcst cumul</th>\n",
       "    </tr>\n",
       "  </thead>\n",
       "  <tbody>\n",
       "    <tr>\n",
       "      <th>76</th>\n",
       "      <td>2015Q1</td>\n",
       "      <td>646.745544</td>\n",
       "      <td>554.0</td>\n",
       "      <td>16.741073</td>\n",
       "      <td>40405.745544</td>\n",
       "      <td>40426.0</td>\n",
       "      <td>0.050103</td>\n",
       "      <td>NaN</td>\n",
       "      <td>NaN</td>\n",
       "    </tr>\n",
       "    <tr>\n",
       "      <th>77</th>\n",
       "      <td>2015Q2</td>\n",
       "      <td>599.455139</td>\n",
       "      <td>638.0</td>\n",
       "      <td>6.041514</td>\n",
       "      <td>41005.200684</td>\n",
       "      <td>41099.0</td>\n",
       "      <td>0.228228</td>\n",
       "      <td>NaN</td>\n",
       "      <td>NaN</td>\n",
       "    </tr>\n",
       "    <tr>\n",
       "      <th>78</th>\n",
       "      <td>2015Q3</td>\n",
       "      <td>579.730774</td>\n",
       "      <td>751.0</td>\n",
       "      <td>22.805489</td>\n",
       "      <td>41584.931458</td>\n",
       "      <td>41764.0</td>\n",
       "      <td>0.428763</td>\n",
       "      <td>NaN</td>\n",
       "      <td>NaN</td>\n",
       "    </tr>\n",
       "    <tr>\n",
       "      <th>79</th>\n",
       "      <td>2015Q4</td>\n",
       "      <td>696.016663</td>\n",
       "      <td>830.0</td>\n",
       "      <td>16.142571</td>\n",
       "      <td>42280.948120</td>\n",
       "      <td>42503.0</td>\n",
       "      <td>0.522438</td>\n",
       "      <td>NaN</td>\n",
       "      <td>NaN</td>\n",
       "    </tr>\n",
       "    <tr>\n",
       "      <th>80</th>\n",
       "      <td>2016Q1</td>\n",
       "      <td>679.800110</td>\n",
       "      <td>657.0</td>\n",
       "      <td>3.470336</td>\n",
       "      <td>42960.748230</td>\n",
       "      <td>43165.0</td>\n",
       "      <td>0.473188</td>\n",
       "      <td>NaN</td>\n",
       "      <td>NaN</td>\n",
       "    </tr>\n",
       "    <tr>\n",
       "      <th>81</th>\n",
       "      <td>2016Q2</td>\n",
       "      <td>702.442078</td>\n",
       "      <td>527.0</td>\n",
       "      <td>33.290717</td>\n",
       "      <td>43663.190308</td>\n",
       "      <td>43819.0</td>\n",
       "      <td>0.355576</td>\n",
       "      <td>NaN</td>\n",
       "      <td>NaN</td>\n",
       "    </tr>\n",
       "    <tr>\n",
       "      <th>82</th>\n",
       "      <td>2016Q3</td>\n",
       "      <td>697.695801</td>\n",
       "      <td>736.0</td>\n",
       "      <td>5.204375</td>\n",
       "      <td>44360.886108</td>\n",
       "      <td>44443.0</td>\n",
       "      <td>0.184762</td>\n",
       "      <td>NaN</td>\n",
       "      <td>NaN</td>\n",
       "    </tr>\n",
       "    <tr>\n",
       "      <th>83</th>\n",
       "      <td>2016Q4</td>\n",
       "      <td>786.228394</td>\n",
       "      <td>694.0</td>\n",
       "      <td>13.289394</td>\n",
       "      <td>45147.114502</td>\n",
       "      <td>45177.0</td>\n",
       "      <td>0.066152</td>\n",
       "      <td>NaN</td>\n",
       "      <td>NaN</td>\n",
       "    </tr>\n",
       "    <tr>\n",
       "      <th>84</th>\n",
       "      <td>2017Q1</td>\n",
       "      <td>NaN</td>\n",
       "      <td>NaN</td>\n",
       "      <td>NaN</td>\n",
       "      <td>NaN</td>\n",
       "      <td>NaN</td>\n",
       "      <td>NaN</td>\n",
       "      <td>874.439148</td>\n",
       "      <td>47344.439148</td>\n",
       "    </tr>\n",
       "    <tr>\n",
       "      <th>85</th>\n",
       "      <td>2017Q2</td>\n",
       "      <td>NaN</td>\n",
       "      <td>NaN</td>\n",
       "      <td>NaN</td>\n",
       "      <td>NaN</td>\n",
       "      <td>NaN</td>\n",
       "      <td>NaN</td>\n",
       "      <td>872.313599</td>\n",
       "      <td>48216.752747</td>\n",
       "    </tr>\n",
       "    <tr>\n",
       "      <th>86</th>\n",
       "      <td>2017Q3</td>\n",
       "      <td>NaN</td>\n",
       "      <td>NaN</td>\n",
       "      <td>NaN</td>\n",
       "      <td>NaN</td>\n",
       "      <td>NaN</td>\n",
       "      <td>NaN</td>\n",
       "      <td>904.361572</td>\n",
       "      <td>49121.114319</td>\n",
       "    </tr>\n",
       "    <tr>\n",
       "      <th>87</th>\n",
       "      <td>2017Q4</td>\n",
       "      <td>NaN</td>\n",
       "      <td>NaN</td>\n",
       "      <td>NaN</td>\n",
       "      <td>NaN</td>\n",
       "      <td>NaN</td>\n",
       "      <td>NaN</td>\n",
       "      <td>773.264587</td>\n",
       "      <td>49894.378906</td>\n",
       "    </tr>\n",
       "    <tr>\n",
       "      <th>88</th>\n",
       "      <td>2018Q1</td>\n",
       "      <td>NaN</td>\n",
       "      <td>NaN</td>\n",
       "      <td>NaN</td>\n",
       "      <td>NaN</td>\n",
       "      <td>NaN</td>\n",
       "      <td>NaN</td>\n",
       "      <td>694.708496</td>\n",
       "      <td>50589.087402</td>\n",
       "    </tr>\n",
       "    <tr>\n",
       "      <th>89</th>\n",
       "      <td>2018Q2</td>\n",
       "      <td>NaN</td>\n",
       "      <td>NaN</td>\n",
       "      <td>NaN</td>\n",
       "      <td>NaN</td>\n",
       "      <td>NaN</td>\n",
       "      <td>NaN</td>\n",
       "      <td>752.605347</td>\n",
       "      <td>51341.692749</td>\n",
       "    </tr>\n",
       "    <tr>\n",
       "      <th>90</th>\n",
       "      <td>2018Q3</td>\n",
       "      <td>NaN</td>\n",
       "      <td>NaN</td>\n",
       "      <td>NaN</td>\n",
       "      <td>NaN</td>\n",
       "      <td>NaN</td>\n",
       "      <td>NaN</td>\n",
       "      <td>832.242493</td>\n",
       "      <td>52173.935242</td>\n",
       "    </tr>\n",
       "    <tr>\n",
       "      <th>91</th>\n",
       "      <td>2018Q4</td>\n",
       "      <td>NaN</td>\n",
       "      <td>NaN</td>\n",
       "      <td>NaN</td>\n",
       "      <td>NaN</td>\n",
       "      <td>NaN</td>\n",
       "      <td>NaN</td>\n",
       "      <td>668.677002</td>\n",
       "      <td>52842.612244</td>\n",
       "    </tr>\n",
       "  </tbody>\n",
       "</table>\n",
       "</div>"
      ],
      "text/plain": [
       "   Year / Quarter  predictions  observations   diff (%)  predictions cumul  \\\n",
       "76         2015Q1   646.745544         554.0  16.741073       40405.745544   \n",
       "77         2015Q2   599.455139         638.0   6.041514       41005.200684   \n",
       "78         2015Q3   579.730774         751.0  22.805489       41584.931458   \n",
       "79         2015Q4   696.016663         830.0  16.142571       42280.948120   \n",
       "80         2016Q1   679.800110         657.0   3.470336       42960.748230   \n",
       "81         2016Q2   702.442078         527.0  33.290717       43663.190308   \n",
       "82         2016Q3   697.695801         736.0   5.204375       44360.886108   \n",
       "83         2016Q4   786.228394         694.0  13.289394       45147.114502   \n",
       "84         2017Q1          NaN           NaN        NaN                NaN   \n",
       "85         2017Q2          NaN           NaN        NaN                NaN   \n",
       "86         2017Q3          NaN           NaN        NaN                NaN   \n",
       "87         2017Q4          NaN           NaN        NaN                NaN   \n",
       "88         2018Q1          NaN           NaN        NaN                NaN   \n",
       "89         2018Q2          NaN           NaN        NaN                NaN   \n",
       "90         2018Q3          NaN           NaN        NaN                NaN   \n",
       "91         2018Q4          NaN           NaN        NaN                NaN   \n",
       "\n",
       "    observations cumul  diff cumul (%)   forecasts  actual fcst cumul  \n",
       "76             40426.0        0.050103         NaN                NaN  \n",
       "77             41099.0        0.228228         NaN                NaN  \n",
       "78             41764.0        0.428763         NaN                NaN  \n",
       "79             42503.0        0.522438         NaN                NaN  \n",
       "80             43165.0        0.473188         NaN                NaN  \n",
       "81             43819.0        0.355576         NaN                NaN  \n",
       "82             44443.0        0.184762         NaN                NaN  \n",
       "83             45177.0        0.066152         NaN                NaN  \n",
       "84                 NaN             NaN  874.439148       47344.439148  \n",
       "85                 NaN             NaN  872.313599       48216.752747  \n",
       "86                 NaN             NaN  904.361572       49121.114319  \n",
       "87                 NaN             NaN  773.264587       49894.378906  \n",
       "88                 NaN             NaN  694.708496       50589.087402  \n",
       "89                 NaN             NaN  752.605347       51341.692749  \n",
       "90                 NaN             NaN  832.242493       52173.935242  \n",
       "91                 NaN             NaN  668.677002       52842.612244  "
      ]
     },
     "execution_count": 93,
     "metadata": {},
     "output_type": "execute_result"
    }
   ],
   "source": [
    "# Concatenate dataframes into predictions vs. obsefvations\n",
    "output_df = pd.concat([dat_concat, pred_df, obs_df, diff_df, f_df], axis = 1)\n",
    "\n",
    "# View output\n",
    "output_df"
   ]
  },
  {
   "cell_type": "code",
   "execution_count": 94,
   "metadata": {},
   "outputs": [
    {
     "data": {
      "image/png": "[encoded data removed]",
      "text/plain": [
       "<matplotlib.figure.Figure at 0x258693d1358>"
      ]
     },
     "metadata": {},
     "output_type": "display_data"
    }
   ],
   "source": [
    "# Set output size\n",
    "fig_size = plt.rcParams[\"figure.figsize\"]\n",
    "fig_size[0] = 9\n",
    "fig_size[1] = 6\n",
    "plt.rcParams[\"figure.figsize\"] = fig_size\n",
    "\n",
    "# Visualize outputs\n",
    "plt.clf()\n",
    "plt.plot(output_df['predictions'], color = 'blue', lw = 2, marker = 'o')\n",
    "plt.plot(output_df['observations'], color = 'black', lw = 2, marker = 's')\n",
    "plt.plot(output_df['forecasts'], color = 'aqua', lw = 2, marker = 'o')\n",
    "plt.xticks(output_df.index, output_df['Year / Quarter'], rotation = 'vertical')\n",
    "plt.xlabel('Year / Quarter')\n",
    "plt.ylabel('New Subscribers')\n",
    "plt.legend(loc = 'lower left')\n",
    "plt.show()"
   ]
  }
 ],
 "metadata": {
  "kernelspec": {
   "display_name": "Python 3",
   "language": "python",
   "name": "python3"
  },
  "language_info": {
   "codemirror_mode": {
    "name": "ipython",
    "version": 3
   },
   "file_extension": ".py",
   "mimetype": "text/x-python",
   "name": "python",
   "nbconvert_exporter": "python",
   "pygments_lexer": "ipython3",
   "version": "3.6.1"
  }
 },
 "nbformat": 4,
 "nbformat_minor": 2
}
